{
  "cells": [
    {
      "cell_type": "code",
      "execution_count": 1,
      "metadata": {
        "colab": {
          "base_uri": "https://localhost:8080/"
        },
        "id": "O_dFGvUw047g",
        "outputId": "c6f67295-d756-4a61-8e9c-55e5012981a8"
      },
      "outputs": [
        {
          "output_type": "stream",
          "name": "stdout",
          "text": [
            "Collecting vit-keras\n",
            "  Downloading vit_keras-0.1.2-py3-none-any.whl (24 kB)\n",
            "Requirement already satisfied: scipy in /usr/local/lib/python3.10/dist-packages (from vit-keras) (1.11.4)\n",
            "Collecting validators (from vit-keras)\n",
            "  Downloading validators-0.28.1-py3-none-any.whl (39 kB)\n",
            "Requirement already satisfied: numpy<1.28.0,>=1.21.6 in /usr/local/lib/python3.10/dist-packages (from scipy->vit-keras) (1.25.2)\n",
            "Installing collected packages: validators, vit-keras\n",
            "Successfully installed validators-0.28.1 vit-keras-0.1.2\n",
            "Collecting tensorflow-addons\n",
            "  Downloading tensorflow_addons-0.23.0-cp310-cp310-manylinux_2_17_x86_64.manylinux2014_x86_64.whl (611 kB)\n",
            "\u001b[2K     \u001b[90m━━━━━━━━━━━━━━━━━━━━━━━━━━━━━━━━━━━━━━━━\u001b[0m \u001b[32m611.8/611.8 kB\u001b[0m \u001b[31m3.9 MB/s\u001b[0m eta \u001b[36m0:00:00\u001b[0m\n",
            "\u001b[?25hRequirement already satisfied: packaging in /usr/local/lib/python3.10/dist-packages (from tensorflow-addons) (24.0)\n",
            "Collecting typeguard<3.0.0,>=2.7 (from tensorflow-addons)\n",
            "  Downloading typeguard-2.13.3-py3-none-any.whl (17 kB)\n",
            "Installing collected packages: typeguard, tensorflow-addons\n",
            "Successfully installed tensorflow-addons-0.23.0 typeguard-2.13.3\n"
          ]
        },
        {
          "output_type": "stream",
          "name": "stderr",
          "text": [
            "/usr/local/lib/python3.10/dist-packages/tensorflow_addons/utils/tfa_eol_msg.py:23: UserWarning: \n",
            "\n",
            "TensorFlow Addons (TFA) has ended development and introduction of new features.\n",
            "TFA has entered a minimal maintenance and release mode until a planned end of life in May 2024.\n",
            "Please modify downstream libraries to take dependencies from other repositories in our TensorFlow community (e.g. Keras, Keras-CV, and Keras-NLP). \n",
            "\n",
            "For more information see: https://github.com/tensorflow/addons/issues/2807 \n",
            "\n",
            "  warnings.warn(\n"
          ]
        }
      ],
      "source": [
        "!pip install vit-keras\n",
        "!pip install tensorflow-addons\n",
        "# Loading Drive for Colab\n",
        "from google.colab import drive\n",
        "from google.colab import files\n",
        "import os\n",
        "import time\n",
        "import warnings\n",
        "import math\n",
        "import matplotlib.pyplot as plt\n",
        "import numpy as np\n",
        "import pandas as pd\n",
        "import scipy.io as sio\n",
        "import seaborn as sns\n",
        "from sklearn.decomposition import PCA\n",
        "from sklearn.metrics import (accuracy_score, classification_report,\n",
        "                             cohen_kappa_score, confusion_matrix)\n",
        "from sklearn.model_selection import train_test_split\n",
        "import tensorflow as tf\n",
        "import keras\n",
        "from keras.layers import (Conv3D, Dense, Dropout, Flatten, Input, Reshape, concatenate)\n",
        "from tensorflow.keras import regularizers\n",
        "from tensorflow.keras import layers, Model\n",
        "from keras.losses import categorical_crossentropy\n",
        "from keras.models import Model, Sequential\n",
        "from tensorflow.keras.layers import (Activation, Lambda, multiply)\n",
        "from tensorflow.keras.optimizers import Adam\n",
        "from keras.optimizers import Adam\n",
        "from operator import truediv\n",
        "from vit_keras import utils, vit\n",
        "from keras.utils import to_categorical"
      ]
    },
    {
      "cell_type": "markdown",
      "metadata": {
        "id": "ZnoyZdRF2QFl"
      },
      "source": [
        "**Load HSI Datasets**"
      ]
    },
    {
      "cell_type": "code",
      "execution_count": 2,
      "metadata": {
        "colab": {
          "base_uri": "https://localhost:8080/"
        },
        "id": "z3g1EnHI1NAj",
        "outputId": "ecc398d1-fc32-4bf4-f1bd-9ef12799725b"
      },
      "outputs": [
        {
          "output_type": "stream",
          "name": "stdout",
          "text": [
            "Mounted at /content/drive\n"
          ]
        }
      ],
      "source": [
        "## Loading Hyperspectral Datasets and Mounting the Colab Drive for Loading Datasets\n",
        "drive.mount('/content/drive')\n",
        "## Loading Datasets\n",
        "def LoadHSIData(method):\n",
        "    data_path = os.path.join(os.getcwd(),'/content/drive/My Drive/Colab')\n",
        "    if method == 'PU':\n",
        "        HSI = sio.loadmat(os.path.join(data_path, 'ColabPaviaU.mat'))['paviaU']\n",
        "        GT = sio.loadmat(os.path.join(data_path, 'ColabPaviaU_gt.mat'))['paviaU_gt']\n",
        "        Num_Classes = 9\n",
        "        target_names = ['Asphalt','Meadows','Gravel','Trees', 'Painted','Soil','Bitumen',\n",
        "                        'Bricks','Shadows']\n",
        "    elif method == 'SA':\n",
        "        HSI = sio.loadmat(os.path.join(data_path, 'ColabSalinas_corrected.mat'))['salinas_corrected']\n",
        "        GT = sio.loadmat(os.path.join(data_path, 'ColabSalinas_gt.mat'))['salinas_gt']\n",
        "        Num_Classes = 16\n",
        "        target_names = ['Weeds_1','Weeds_2','Fallow', 'Fallow_rough_plow',\n",
        "                        'Fallow_smooth', 'Stubble','Celery', 'Grapes_untrained',\n",
        "                        'Soil_vinyard_develop','Corn_Weeds', 'Lettuce_4wk',\n",
        "                        'Lettuce_5wk','Lettuce_6wk', 'Lettuce_7wk',\n",
        "                        'Vinyard_untrained','Vinyard_trellis']\n",
        "    elif method == 'UH13':\n",
        "      HSI = sio.loadmat(os.path.join(data_path, 'ColabHU.mat'))['HSI']\n",
        "      GT = sio.loadmat(os.path.join(data_path, 'ColabHU_gt.mat'))['gt']\n",
        "      Num_Classes = 15\n",
        "      target_names = ['Healthy grass', 'Stressed grass', 'Synthetic grass', 'Trees',\n",
        "                    'Soil', 'Water', 'Residential', 'Commercial', 'Road',\n",
        "                    'Highway', 'Railway', 'Parking Lot 1', 'Parking Lot 2',\n",
        "                    'Tennis Court', 'Running Track']\n",
        "    return HSI, GT, Num_Classes, target_names"
      ]
    },
    {
      "cell_type": "markdown",
      "metadata": {
        "id": "Gcwd4TP22U0_"
      },
      "source": [
        "**Important Internal Functions**"
      ]
    },
    {
      "cell_type": "code",
      "execution_count": 3,
      "metadata": {
        "id": "mK-OGPKL2VES"
      },
      "outputs": [],
      "source": [
        "## Prediction Model\n",
        "def PreModel(Actual, model):\n",
        "  ## Validation Prediction Model\n",
        "  prediction = model.predict(Actual)\n",
        "  argmax_prediction = np.argmax(prediction, axis=1) + 1  # Add 1 to the argmax result to shift the class labels\n",
        "  non_zero_classes = np.unique(argmax_prediction)  # Get the unique non-zero class labels\n",
        "  # Remove the 0 class label if it exists in the non_zero_classes array\n",
        "  if 0 in non_zero_classes:\n",
        "    non_zero_classes = non_zero_classes[non_zero_classes != 0]\n",
        "  # Filter out the non-zero classes from the argmax_prediction array\n",
        "  Pre = argmax_prediction[np.isin(argmax_prediction, non_zero_classes)]\n",
        "  return Pre\n",
        "\n",
        "## Computing the Accuracies and Confusion Matrix for Disjoint Samples\n",
        "def ClassificationReports(TeC, HSID, Te_Pre, target_names):\n",
        "  classification = classification_report(np.argmax(TeC, axis=1)+1, Te_Pre, target_names = target_names)\n",
        "  oa = accuracy_score(np.argmax(TeC, axis=1)+1, Te_Pre)\n",
        "  oa = round(oa, 4)\n",
        "  confusion = confusion_matrix(np.argmax(TeC, axis=1)+1, Te_Pre)\n",
        "  list_diag = np.diag(confusion)\n",
        "  list_raw_sum = np.sum(confusion, axis=1)\n",
        "  each_acc = np.nan_to_num(truediv(list_diag, list_raw_sum))\n",
        "  aa = np.mean(each_acc)\n",
        "  aa = round(aa, 4)\n",
        "  kappa = cohen_kappa_score(np.argmax(TeC, axis=1)+1, Te_Pre)\n",
        "  kappa = round(kappa, 4)\n",
        "  return classification, confusion, oa*100, each_acc*100, aa*100, kappa*100\n",
        "\n",
        "## Writing Results in CSV files\n",
        "def CSVResults(file_name, Tr_Time, Te_Time, Te_classification,\n",
        "               Te_Confusion, Te_Kappa, Te_OA, Te_AA, Te_Per_Class):\n",
        "    Te_classification = str(Te_classification)\n",
        "    Te_Confusion = str(Te_Confusion)\n",
        "    with open(file_name, 'w') as CSV_file:\n",
        "      CSV_file.write('{} Tr_Time'.format(Tr_Time))\n",
        "      CSV_file.write('\\n')\n",
        "      CSV_file.write('{} Te_Time'.format(Te_Time))\n",
        "      CSV_file.write('\\n')\n",
        "      CSV_file.write('{} Te Kappa (%)'.format(Te_Kappa))\n",
        "      CSV_file.write('\\n')\n",
        "      CSV_file.write('{} Te Overall (%)'.format(Te_OA))\n",
        "      CSV_file.write('\\n')\n",
        "      CSV_file.write('{} Te Average (%)'.format(Te_AA))\n",
        "      CSV_file.write('\\n')\n",
        "      CSV_file.write('{} Te Classification'.format(Te_classification))\n",
        "      CSV_file.write('\\n')\n",
        "      CSV_file.write('{} Te Per Class'.format(Te_Per_Class))\n",
        "      CSV_file.write('\\n')\n",
        "      CSV_file.write('{} Te Confussion'.format(Te_Confusion))\n",
        "      CSV_file.write('\\n')\n",
        "    return CSV_file"
      ]
    },
    {
      "cell_type": "markdown",
      "metadata": {
        "id": "8OeacHTK7wBo"
      },
      "source": [
        "**Initializating Parameters**"
      ]
    },
    {
      "cell_type": "code",
      "execution_count": 4,
      "metadata": {
        "colab": {
          "base_uri": "https://localhost:8080/"
        },
        "id": "wpn6JXlA7vPZ",
        "outputId": "8b53bb11-634d-4c98-b52a-e4758490037b"
      },
      "outputs": [
        {
          "output_type": "stream",
          "name": "stderr",
          "text": [
            "/usr/local/lib/python3.10/dist-packages/keras/src/optimizers/legacy/adam.py:118: UserWarning: The `lr` argument is deprecated, use `learning_rate` instead.\n",
            "  super().__init__(name, **kwargs)\n"
          ]
        }
      ],
      "source": [
        "## Global Parameters for Loop\n",
        "HSID = \"UH13\" ## UH13, PU, SA\n",
        "WS = 8\n",
        "teRatio = 0.8\n",
        "vrRatio = 0.5\n",
        "k = 15\n",
        "adam = tf.keras.optimizers.legacy.Adam(lr = 0.0001, decay = 1e-06)\n",
        "epochs = 50\n",
        "batch_size = 56"
      ]
    },
    {
      "cell_type": "markdown",
      "metadata": {
        "id": "rPdFijeX2ml1"
      },
      "source": [
        "**3D Patch Process**"
      ]
    },
    {
      "cell_type": "code",
      "execution_count": 5,
      "metadata": {
        "id": "kPlrRGkb2m1L"
      },
      "outputs": [],
      "source": [
        "## Creat Patches for 3D (Spatial-Spectral) Models\n",
        "def ImageCubes(HSI, GT, WS=WS, removeZeroLabels=True):\n",
        "    num_rows, num_cols, num_bands = HSI.shape\n",
        "    margin = int(WS / 2)\n",
        "    padded_data = np.pad(HSI, ((margin, margin), (margin, margin), (0, 0)), mode='constant')\n",
        "    image_cubes = np.zeros((num_rows * num_cols, WS, WS, num_bands))\n",
        "    patchesLabels = np.zeros((num_rows * num_cols))\n",
        "    patchIndex = 0\n",
        "    for r in range(margin, num_rows + margin):\n",
        "        for c in range(margin, num_cols + margin):\n",
        "            cube = padded_data[r - margin: r + margin, c - margin: c + margin, :]\n",
        "            image_cubes[patchIndex, :, :, :] = cube\n",
        "            patchesLabels[patchIndex] = GT[r-margin, c-margin]\n",
        "            patchIndex = patchIndex + 1\n",
        "    return image_cubes, patchesLabels\n",
        "\n",
        "## Dimensional Reduction (If required)\n",
        "def DLMethod(HSI, NC = 75):\n",
        "  RHSI = np.reshape(HSI, (-1, HSI.shape[2]))\n",
        "  pca = PCA(n_components = NC, whiten = True)\n",
        "  RHSI = pca.fit_transform(RHSI)\n",
        "  RHSI = np.reshape(RHSI, (HSI.shape[0], HSI.shape[1], NC))\n",
        "  return RHSI"
      ]
    },
    {
      "cell_type": "markdown",
      "metadata": {
        "id": "2Jvtcwqr2vLy"
      },
      "source": [
        "**Preprocessing**"
      ]
    },
    {
      "cell_type": "code",
      "execution_count": 6,
      "metadata": {
        "id": "GoXErHJO2vZX"
      },
      "outputs": [],
      "source": [
        "## Main Function to load Datasets\n",
        "HSI, GT, Num_Classes, target_names = LoadHSIData(HSID)\n",
        "## Reduce the Dimensionality (If required)\n",
        "start = time.time()\n",
        "RDHSI = DLMethod(HSI, NC = k)\n",
        "end = time.time()\n",
        "DL_Time = end - start\n",
        "## Create Image Cubes for Model Building\n",
        "CRDHSI, CGT = ImageCubes(RDHSI, GT, WS = WS)"
      ]
    },
    {
      "cell_type": "markdown",
      "metadata": {
        "id": "0L2zCZIi3BHu"
      },
      "source": [
        "**Disjoint Train/Validation/Test Sample Selection**"
      ]
    },
    {
      "cell_type": "code",
      "execution_count": 7,
      "metadata": {
        "colab": {
          "base_uri": "https://localhost:8080/",
          "height": 17
        },
        "id": "vCQYpgRw3BWV",
        "outputId": "c03405d8-e791-4ed9-edc6-d6e46a96c43b"
      },
      "outputs": [
        {
          "output_type": "display_data",
          "data": {
            "text/plain": [
              "<IPython.core.display.Javascript object>"
            ],
            "application/javascript": [
              "\n",
              "    async function download(id, filename, size) {\n",
              "      if (!google.colab.kernel.accessAllowed) {\n",
              "        return;\n",
              "      }\n",
              "      const div = document.createElement('div');\n",
              "      const label = document.createElement('label');\n",
              "      label.textContent = `Downloading \"${filename}\": `;\n",
              "      div.appendChild(label);\n",
              "      const progress = document.createElement('progress');\n",
              "      progress.max = size;\n",
              "      div.appendChild(progress);\n",
              "      document.body.appendChild(div);\n",
              "\n",
              "      const buffers = [];\n",
              "      let downloaded = 0;\n",
              "\n",
              "      const channel = await google.colab.kernel.comms.open(id);\n",
              "      // Send a message to notify the kernel that we're ready.\n",
              "      channel.send({})\n",
              "\n",
              "      for await (const message of channel.messages) {\n",
              "        // Send a message to notify the kernel that we're ready.\n",
              "        channel.send({})\n",
              "        if (message.buffers) {\n",
              "          for (const buffer of message.buffers) {\n",
              "            buffers.push(buffer);\n",
              "            downloaded += buffer.byteLength;\n",
              "            progress.value = downloaded;\n",
              "          }\n",
              "        }\n",
              "      }\n",
              "      const blob = new Blob(buffers, {type: 'application/binary'});\n",
              "      const a = document.createElement('a');\n",
              "      a.href = window.URL.createObjectURL(blob);\n",
              "      a.download = filename;\n",
              "      div.appendChild(a);\n",
              "      a.click();\n",
              "      div.remove();\n",
              "    }\n",
              "  "
            ]
          },
          "metadata": {}
        },
        {
          "output_type": "display_data",
          "data": {
            "text/plain": [
              "<IPython.core.display.Javascript object>"
            ],
            "application/javascript": [
              "download(\"download_9152ded7-959e-4f6f-b72f-1773184c6158\", \"UH13_0.8_8_Samples.csv\", 241)"
            ]
          },
          "metadata": {}
        }
      ],
      "source": [
        "## Set seed for reproducibility\n",
        "np.random.seed(42)\n",
        "## Calculate the number of rows for each sample\n",
        "num_rows, num_cols = GT.shape\n",
        "## Flatten the matrix into a 1D array\n",
        "flattened = GT.flatten()\n",
        "## Get the unique values and their counts, excluding the 0 class\n",
        "unique_values, value_counts = np.unique(flattened, return_counts=True)\n",
        "nonzero_indices = np.where(unique_values != 0)[0]\n",
        "unique_values = unique_values[nonzero_indices]\n",
        "## Create a DataFrame to store sample counts\n",
        "Samples = pd.DataFrame(columns=['Training', 'Validation', 'Test'])\n",
        "## Create lists to store the indices\n",
        "TrInd = []\n",
        "VaInd = []\n",
        "TeInd = []\n",
        "## Split the data for each class\n",
        "for value in unique_values:\n",
        "    class_indices = np.where(flattened == value)[0]\n",
        "    train_indices, test_indices = train_test_split(class_indices, test_size=teRatio)\n",
        "    train_indices, val_indices = train_test_split(train_indices, test_size=vrRatio)\n",
        "    ## Save the sample counts\n",
        "    Samples.loc[value] = [len(train_indices), len(val_indices), len(test_indices)]\n",
        "    ## Store the indices\n",
        "    TrInd.extend(train_indices)\n",
        "    VaInd.extend(val_indices)\n",
        "    TeInd.extend(test_indices)\n",
        "\n",
        "## Convert the DataFrame to a CSV file\n",
        "file_name = f\"{HSID}_{teRatio}_{WS}_Samples.csv\"\n",
        "Samples.to_csv(file_name, index_label='Class')\n",
        "files.download(file_name)\n",
        "## Select Train/Validation/Test Samples\n",
        "Tr = CRDHSI[TrInd]\n",
        "Va = CRDHSI[VaInd]\n",
        "Te = CRDHSI[TeInd]\n",
        "## Convert labels into one-hot encoding\n",
        "TrC = to_categorical(CGT[TrInd] -1)\n",
        "VaC = to_categorical(CGT[VaInd] -1)\n",
        "TeC = to_categorical(CGT[TeInd] -1)"
      ]
    },
    {
      "cell_type": "markdown",
      "metadata": {
        "id": "s0FXls-s3w82"
      },
      "source": [
        "**Pyramid Hierarchical Spatial-Spectral Transformer**"
      ]
    },
    {
      "cell_type": "code",
      "execution_count": 8,
      "metadata": {
        "colab": {
          "base_uri": "https://localhost:8080/"
        },
        "id": "VJ0L_c2h3wM1",
        "outputId": "534cf011-c0a2-4660-dca0-986c49172013"
      },
      "outputs": [
        {
          "output_type": "stream",
          "name": "stdout",
          "text": [
            "Epoch 1/50\n",
            "27/27 [==============================] - 27s 635ms/step - loss: 3.8754 - accuracy: 0.7754 - val_loss: 2.8947 - val_accuracy: 0.9321\n",
            "Epoch 2/50\n",
            "27/27 [==============================] - 16s 588ms/step - loss: 2.7758 - accuracy: 0.9699 - val_loss: 2.7475 - val_accuracy: 0.9454\n",
            "Epoch 3/50\n",
            "27/27 [==============================] - 16s 593ms/step - loss: 2.5591 - accuracy: 0.9846 - val_loss: 2.6332 - val_accuracy: 0.9687\n",
            "Epoch 4/50\n",
            "27/27 [==============================] - 16s 583ms/step - loss: 2.4452 - accuracy: 0.9967 - val_loss: 2.5387 - val_accuracy: 0.9701\n",
            "Epoch 5/50\n",
            "27/27 [==============================] - 16s 603ms/step - loss: 2.3644 - accuracy: 0.9987 - val_loss: 2.4551 - val_accuracy: 0.9714\n",
            "Epoch 6/50\n",
            "27/27 [==============================] - 16s 612ms/step - loss: 2.2833 - accuracy: 0.9987 - val_loss: 2.3273 - val_accuracy: 0.9734\n",
            "Epoch 7/50\n",
            "27/27 [==============================] - 16s 618ms/step - loss: 2.1551 - accuracy: 1.0000 - val_loss: 2.2313 - val_accuracy: 0.9747\n",
            "Epoch 8/50\n",
            "27/27 [==============================] - 16s 610ms/step - loss: 2.0558 - accuracy: 1.0000 - val_loss: 2.1297 - val_accuracy: 0.9754\n",
            "Epoch 9/50\n",
            "27/27 [==============================] - 16s 596ms/step - loss: 1.9548 - accuracy: 1.0000 - val_loss: 2.0262 - val_accuracy: 0.9747\n",
            "Epoch 10/50\n",
            "27/27 [==============================] - 16s 594ms/step - loss: 1.8536 - accuracy: 1.0000 - val_loss: 1.9224 - val_accuracy: 0.9760\n",
            "Epoch 11/50\n",
            "27/27 [==============================] - 16s 609ms/step - loss: 1.7531 - accuracy: 1.0000 - val_loss: 1.8202 - val_accuracy: 0.9747\n",
            "Epoch 12/50\n",
            "27/27 [==============================] - 16s 600ms/step - loss: 1.6540 - accuracy: 1.0000 - val_loss: 1.7199 - val_accuracy: 0.9754\n",
            "Epoch 13/50\n",
            "27/27 [==============================] - 16s 611ms/step - loss: 1.5571 - accuracy: 1.0000 - val_loss: 1.6209 - val_accuracy: 0.9767\n",
            "Epoch 14/50\n",
            "27/27 [==============================] - 16s 611ms/step - loss: 1.4628 - accuracy: 1.0000 - val_loss: 1.5268 - val_accuracy: 0.9767\n",
            "Epoch 15/50\n",
            "27/27 [==============================] - 16s 609ms/step - loss: 1.3716 - accuracy: 1.0000 - val_loss: 1.4348 - val_accuracy: 0.9774\n",
            "Epoch 16/50\n",
            "27/27 [==============================] - 16s 609ms/step - loss: 1.2837 - accuracy: 1.0000 - val_loss: 1.3473 - val_accuracy: 0.9780\n",
            "Epoch 17/50\n",
            "27/27 [==============================] - 16s 609ms/step - loss: 1.1995 - accuracy: 1.0000 - val_loss: 1.2617 - val_accuracy: 0.9780\n",
            "Epoch 18/50\n",
            "27/27 [==============================] - 16s 609ms/step - loss: 1.1190 - accuracy: 1.0000 - val_loss: 1.1851 - val_accuracy: 0.9780\n",
            "Epoch 19/50\n",
            "27/27 [==============================] - 16s 599ms/step - loss: 1.0424 - accuracy: 1.0000 - val_loss: 1.1060 - val_accuracy: 0.9800\n",
            "Epoch 20/50\n",
            "27/27 [==============================] - 16s 600ms/step - loss: 0.9698 - accuracy: 1.0000 - val_loss: 1.0356 - val_accuracy: 0.9800\n",
            "Epoch 21/50\n",
            "27/27 [==============================] - 16s 612ms/step - loss: 0.9010 - accuracy: 1.0000 - val_loss: 0.9681 - val_accuracy: 0.9780\n",
            "Epoch 22/50\n",
            "27/27 [==============================] - 16s 601ms/step - loss: 0.8362 - accuracy: 1.0000 - val_loss: 0.9031 - val_accuracy: 0.9787\n",
            "Epoch 23/50\n",
            "27/27 [==============================] - 16s 603ms/step - loss: 0.7751 - accuracy: 1.0000 - val_loss: 0.8433 - val_accuracy: 0.9780\n",
            "Epoch 24/50\n",
            "27/27 [==============================] - 16s 602ms/step - loss: 0.7177 - accuracy: 1.0000 - val_loss: 0.7874 - val_accuracy: 0.9774\n",
            "Epoch 25/50\n",
            "27/27 [==============================] - 16s 601ms/step - loss: 0.6640 - accuracy: 1.0000 - val_loss: 0.7340 - val_accuracy: 0.9780\n",
            "Epoch 26/50\n",
            "27/27 [==============================] - 16s 613ms/step - loss: 0.6137 - accuracy: 1.0000 - val_loss: 0.6824 - val_accuracy: 0.9787\n",
            "Epoch 27/50\n",
            "27/27 [==============================] - 16s 613ms/step - loss: 0.5668 - accuracy: 1.0000 - val_loss: 0.6395 - val_accuracy: 0.9787\n",
            "Epoch 28/50\n",
            "27/27 [==============================] - 16s 612ms/step - loss: 0.5230 - accuracy: 1.0000 - val_loss: 0.5937 - val_accuracy: 0.9800\n",
            "Epoch 29/50\n",
            "27/27 [==============================] - 16s 600ms/step - loss: 0.4823 - accuracy: 1.0000 - val_loss: 0.5585 - val_accuracy: 0.9800\n",
            "Epoch 30/50\n",
            "27/27 [==============================] - 16s 600ms/step - loss: 0.4445 - accuracy: 1.0000 - val_loss: 0.5143 - val_accuracy: 0.9820\n",
            "Epoch 31/50\n",
            "27/27 [==============================] - 16s 611ms/step - loss: 0.4094 - accuracy: 1.0000 - val_loss: 0.4850 - val_accuracy: 0.9814\n",
            "Epoch 32/50\n",
            "27/27 [==============================] - 16s 611ms/step - loss: 0.3768 - accuracy: 1.0000 - val_loss: 0.4507 - val_accuracy: 0.9820\n",
            "Epoch 33/50\n",
            "27/27 [==============================] - 16s 598ms/step - loss: 0.3467 - accuracy: 1.0000 - val_loss: 0.4187 - val_accuracy: 0.9827\n",
            "Epoch 34/50\n",
            "27/27 [==============================] - 16s 612ms/step - loss: 0.3189 - accuracy: 1.0000 - val_loss: 0.3942 - val_accuracy: 0.9800\n",
            "Epoch 35/50\n",
            "27/27 [==============================] - 16s 611ms/step - loss: 0.2931 - accuracy: 1.0000 - val_loss: 0.3658 - val_accuracy: 0.9827\n",
            "Epoch 36/50\n",
            "27/27 [==============================] - 16s 611ms/step - loss: 0.2694 - accuracy: 1.0000 - val_loss: 0.3425 - val_accuracy: 0.9820\n",
            "Epoch 37/50\n",
            "27/27 [==============================] - 16s 599ms/step - loss: 0.2475 - accuracy: 1.0000 - val_loss: 0.3296 - val_accuracy: 0.9774\n",
            "Epoch 38/50\n",
            "27/27 [==============================] - 16s 612ms/step - loss: 0.2273 - accuracy: 1.0000 - val_loss: 0.2990 - val_accuracy: 0.9820\n",
            "Epoch 39/50\n",
            "27/27 [==============================] - 16s 612ms/step - loss: 0.2087 - accuracy: 1.0000 - val_loss: 0.2847 - val_accuracy: 0.9800\n",
            "Epoch 40/50\n",
            "27/27 [==============================] - 16s 612ms/step - loss: 0.1916 - accuracy: 1.0000 - val_loss: 0.2637 - val_accuracy: 0.9807\n",
            "Epoch 41/50\n",
            "27/27 [==============================] - 16s 613ms/step - loss: 0.1759 - accuracy: 1.0000 - val_loss: 0.2482 - val_accuracy: 0.9834\n",
            "Epoch 42/50\n",
            "27/27 [==============================] - 16s 612ms/step - loss: 0.1616 - accuracy: 1.0000 - val_loss: 0.2387 - val_accuracy: 0.9787\n",
            "Epoch 43/50\n",
            "27/27 [==============================] - 16s 601ms/step - loss: 0.1483 - accuracy: 1.0000 - val_loss: 0.2342 - val_accuracy: 0.9774\n",
            "Epoch 44/50\n",
            "27/27 [==============================] - 16s 601ms/step - loss: 0.1362 - accuracy: 1.0000 - val_loss: 0.2225 - val_accuracy: 0.9780\n",
            "Epoch 45/50\n",
            "27/27 [==============================] - 16s 601ms/step - loss: 0.1250 - accuracy: 1.0000 - val_loss: 0.2029 - val_accuracy: 0.9807\n",
            "Epoch 46/50\n",
            "27/27 [==============================] - 16s 602ms/step - loss: 0.1146 - accuracy: 1.0000 - val_loss: 0.1971 - val_accuracy: 0.9800\n",
            "Epoch 47/50\n",
            "27/27 [==============================] - 16s 600ms/step - loss: 0.1052 - accuracy: 1.0000 - val_loss: 0.1934 - val_accuracy: 0.9760\n",
            "Epoch 48/50\n",
            "27/27 [==============================] - 16s 612ms/step - loss: 0.0966 - accuracy: 1.0000 - val_loss: 0.1676 - val_accuracy: 0.9820\n",
            "Epoch 49/50\n",
            "27/27 [==============================] - 16s 611ms/step - loss: 0.0887 - accuracy: 1.0000 - val_loss: 0.1702 - val_accuracy: 0.9814\n",
            "Epoch 50/50\n",
            "27/27 [==============================] - 16s 600ms/step - loss: 0.0814 - accuracy: 1.0000 - val_loss: 0.1648 - val_accuracy: 0.9780\n"
          ]
        }
      ],
      "source": [
        "# 3D Pyramid Model\n",
        "def pyramid_3d_cnn(WS, k, num_pyramid_levels):\n",
        "    input_shape = (WS, WS, k, 1)\n",
        "    max_patch_size = min(input_shape[:3])\n",
        "    patch_size = max_patch_size\n",
        "    inputs = layers.Input(shape=input_shape)\n",
        "    x = inputs\n",
        "    # Create pyramid levels\n",
        "    pyramid_outputs = []\n",
        "    # Create pyramid levels\n",
        "    for level in range(num_pyramid_levels):\n",
        "        scale = 2 ** level\n",
        "        scaled_input_shape = (input_shape[0] // scale, input_shape[1] // scale, input_shape[2] // scale, input_shape[3])\n",
        "        # Convolutional layers for each pyramid level\n",
        "        x = tf.keras.layers.Conv3D(32, kernel_size=(1, patch_size, patch_size), activation='relu', padding='same', input_shape=scaled_input_shape)(x)\n",
        "        x = tf.keras.layers.Conv3D(64, kernel_size=(1, patch_size, patch_size), activation='relu', padding='same')(x)\n",
        "        pyramid_outputs.append(x)\n",
        "\n",
        "    # Merge the feature maps from pyramid levels\n",
        "    merged = tf.keras.layers.concatenate(pyramid_outputs, axis=-1)\n",
        "    return Model(inputs=inputs, outputs=merged)\n",
        "\n",
        "def hir_transformer(WS, k, num_classes, num_pyramid_levels):\n",
        "    num_layers = 2\n",
        "    num_heads = 4\n",
        "    mlp_dim = 64\n",
        "    input_shape = (WS, WS, k, 1)\n",
        "    inputs = layers.Input(shape=input_shape)\n",
        "    x = pyramid_3d_cnn(WS, k, num_pyramid_levels)(inputs)\n",
        "    x = layers.Activation(\"relu\")(x)\n",
        "    for i in range(num_layers):\n",
        "        x = layers.LayerNormalization()(x)\n",
        "        x = layers.MultiHeadAttention(num_heads=num_heads, key_dim=k)(x, x)\n",
        "        x = layers.Add()([x, inputs])\n",
        "        y = layers.Conv3D(filters=k, kernel_size=(1, WS, WS), activation='relu', padding='same')(x)\n",
        "        y = layers.Conv3D(filters=2*mlp_dim, kernel_size=(1, WS, WS), activation='relu', padding='same')(y)\n",
        "        x = layers.Add()([x, y])\n",
        "    # Apply regularization techniques\n",
        "    flatten_layer = layers.Flatten()(x)\n",
        "    x = layers.Dense(units=128, activation=\"relu\", kernel_regularizer=tf.keras.regularizers.l2(0.01))(flatten_layer)\n",
        "    outputs = layers.Dense(num_classes, activation=\"softmax\")(x)\n",
        "    model = Model(inputs=inputs, outputs=outputs)\n",
        "    return model\n",
        "\n",
        "# Model setting\n",
        "num_pyramid_levels = 2  # Number of pyramid levels\n",
        "model = hir_transformer(WS, k, Num_Classes, num_pyramid_levels)\n",
        "# model.summary()\n",
        "# Compiling the model\n",
        "model.compile(loss='categorical_crossentropy', optimizer=adam, metrics=['accuracy'])\n",
        "# Training the model\n",
        "start = time.time()\n",
        "history = model.fit(x=Tr, y=TrC, batch_size=batch_size, epochs=epochs, validation_data=(Va, VaC))\n",
        "end = time.time()\n",
        "Tr_Time = end - start"
      ]
    },
    {
      "cell_type": "code",
      "execution_count": 9,
      "metadata": {
        "id": "E7Z0DFoJ8Hxo",
        "colab": {
          "base_uri": "https://localhost:8080/",
          "height": 706
        },
        "outputId": "5cf0167b-aa69-4f3d-d8b2-feee4d93d520"
      },
      "outputs": [
        {
          "output_type": "stream",
          "name": "stdout",
          "text": [
            "376/376 [==============================] - 40s 105ms/step\n",
            "                 precision    recall  f1-score   support\n",
            "\n",
            "  Healthy grass       0.98      0.98      0.98      1001\n",
            " Stressed grass       1.00      0.98      0.99      1004\n",
            "Synthetic grass       1.00      0.98      0.99       558\n",
            "          Trees       0.98      0.99      0.99       996\n",
            "           Soil       1.00      1.00      1.00       994\n",
            "          Water       1.00      0.91      0.95       260\n",
            "    Residential       0.99      0.96      0.98      1015\n",
            "     Commercial       0.95      0.97      0.96       996\n",
            "           Road       0.97      0.98      0.98      1002\n",
            "        Highway       0.99      0.99      0.99       982\n",
            "        Railway       0.96      1.00      0.98       988\n",
            "  Parking Lot 1       0.91      1.00      0.95       987\n",
            "  Parking Lot 2       0.99      0.71      0.83       376\n",
            "   Tennis Court       0.96      1.00      0.98       343\n",
            "  Running Track       0.99      1.00      0.99       528\n",
            "\n",
            "       accuracy                           0.98     12030\n",
            "      macro avg       0.98      0.96      0.97     12030\n",
            "   weighted avg       0.98      0.98      0.97     12030\n",
            "\n"
          ]
        },
        {
          "output_type": "display_data",
          "data": {
            "text/plain": [
              "<IPython.core.display.Javascript object>"
            ],
            "application/javascript": [
              "\n",
              "    async function download(id, filename, size) {\n",
              "      if (!google.colab.kernel.accessAllowed) {\n",
              "        return;\n",
              "      }\n",
              "      const div = document.createElement('div');\n",
              "      const label = document.createElement('label');\n",
              "      label.textContent = `Downloading \"${filename}\": `;\n",
              "      div.appendChild(label);\n",
              "      const progress = document.createElement('progress');\n",
              "      progress.max = size;\n",
              "      div.appendChild(progress);\n",
              "      document.body.appendChild(div);\n",
              "\n",
              "      const buffers = [];\n",
              "      let downloaded = 0;\n",
              "\n",
              "      const channel = await google.colab.kernel.comms.open(id);\n",
              "      // Send a message to notify the kernel that we're ready.\n",
              "      channel.send({})\n",
              "\n",
              "      for await (const message of channel.messages) {\n",
              "        // Send a message to notify the kernel that we're ready.\n",
              "        channel.send({})\n",
              "        if (message.buffers) {\n",
              "          for (const buffer of message.buffers) {\n",
              "            buffers.push(buffer);\n",
              "            downloaded += buffer.byteLength;\n",
              "            progress.value = downloaded;\n",
              "          }\n",
              "        }\n",
              "      }\n",
              "      const blob = new Blob(buffers, {type: 'application/binary'});\n",
              "      const a = document.createElement('a');\n",
              "      a.href = window.URL.createObjectURL(blob);\n",
              "      a.download = filename;\n",
              "      div.appendChild(a);\n",
              "      a.click();\n",
              "      div.remove();\n",
              "    }\n",
              "  "
            ]
          },
          "metadata": {}
        },
        {
          "output_type": "display_data",
          "data": {
            "text/plain": [
              "<IPython.core.display.Javascript object>"
            ],
            "application/javascript": [
              "download(\"download_ac316813-9f84-4c53-898f-002b8bacdc11\", \"UH13_0.8_0.5_8_Classification_Report.csv\", 2393)"
            ]
          },
          "metadata": {}
        },
        {
          "output_type": "display_data",
          "data": {
            "text/plain": [
              "<IPython.core.display.Javascript object>"
            ],
            "application/javascript": [
              "\n",
              "    async function download(id, filename, size) {\n",
              "      if (!google.colab.kernel.accessAllowed) {\n",
              "        return;\n",
              "      }\n",
              "      const div = document.createElement('div');\n",
              "      const label = document.createElement('label');\n",
              "      label.textContent = `Downloading \"${filename}\": `;\n",
              "      div.appendChild(label);\n",
              "      const progress = document.createElement('progress');\n",
              "      progress.max = size;\n",
              "      div.appendChild(progress);\n",
              "      document.body.appendChild(div);\n",
              "\n",
              "      const buffers = [];\n",
              "      let downloaded = 0;\n",
              "\n",
              "      const channel = await google.colab.kernel.comms.open(id);\n",
              "      // Send a message to notify the kernel that we're ready.\n",
              "      channel.send({})\n",
              "\n",
              "      for await (const message of channel.messages) {\n",
              "        // Send a message to notify the kernel that we're ready.\n",
              "        channel.send({})\n",
              "        if (message.buffers) {\n",
              "          for (const buffer of message.buffers) {\n",
              "            buffers.push(buffer);\n",
              "            downloaded += buffer.byteLength;\n",
              "            progress.value = downloaded;\n",
              "          }\n",
              "        }\n",
              "      }\n",
              "      const blob = new Blob(buffers, {type: 'application/binary'});\n",
              "      const a = document.createElement('a');\n",
              "      a.href = window.URL.createObjectURL(blob);\n",
              "      a.download = filename;\n",
              "      div.appendChild(a);\n",
              "      a.click();\n",
              "      div.remove();\n",
              "    }\n",
              "  "
            ]
          },
          "metadata": {}
        },
        {
          "output_type": "display_data",
          "data": {
            "text/plain": [
              "<IPython.core.display.Javascript object>"
            ],
            "application/javascript": [
              "download(\"download_ba53761d-d4e8-4235-9953-104461d76b77\", \"UH13_0.8_8_acc_loss_curve.png\", 158557)"
            ]
          },
          "metadata": {}
        },
        {
          "output_type": "display_data",
          "data": {
            "text/plain": [
              "<Figure size 600x300 with 2 Axes>"
            ],
            "image/png": "[encoded data removed]"
          },
          "metadata": {}
        }
      ],
      "source": [
        "## Test Prediction Model\n",
        "start = time.time()\n",
        "Te_Pre = PreModel(Te, model)\n",
        "end = time.time()\n",
        "Te_Time = end - start\n",
        "## Classification Report for Test Model\n",
        "Te_classification,Te_Confusion,Te_OA,Te_Per_Class,Te_AA,Te_Kappa = ClassificationReports(TeC, HSID, Te_Pre, target_names)\n",
        "print(Te_classification)\n",
        "## Writing Results in CSV File\n",
        "file_name = f\"{HSID}_{teRatio}_{vrRatio}_{WS}_Classification_Report.csv\"\n",
        "CSV_file = CSVResults(file_name, Tr_Time, Te_Time, Te_classification,\n",
        "                      Te_Confusion, Te_Kappa, Te_OA, Te_AA, Te_Per_Class)\n",
        "files.download(file_name)\n",
        "# Plot training and validation loss and accuracy for each model on one graph\n",
        "fig, axs = plt.subplots(1, 2, figsize=(6, 3))\n",
        "axs[0].plot(history.history['loss'], label='Train')\n",
        "axs[0].plot(history.history['val_loss'], label='Val', linestyle='--')\n",
        "# Plot accuracy\n",
        "axs[1].plot(history.history['accuracy'], label='Train')\n",
        "axs[1].plot(history.history['val_accuracy'], label='Val', linestyle='--')\n",
        "# Add labels and legend\n",
        "axs[0].set_title('Loss', fontsize=18)\n",
        "axs[0].set_xlabel('Epoch', fontsize=18)\n",
        "axs[1].set_title('Accuracy', fontsize=18)\n",
        "axs[1].set_xlabel('Epoch', fontsize=18)\n",
        "axs[1].legend(fontsize=6)\n",
        "# Add grid lines and set background color\n",
        "axs[0].grid(True)\n",
        "axs[1].grid(True)\n",
        "plt.tight_layout()\n",
        "file_name = f\"{HSID}_{teRatio}_{WS}_acc_loss_curve.png\"\n",
        "plt.savefig(file_name, dpi=500)\n",
        "files.download(file_name)"
      ]
    },
    {
      "cell_type": "code",
      "execution_count": 9,
      "metadata": {
        "id": "SFV_aS4sKQfR"
      },
      "outputs": [],
      "source": []
    }
  ],
  "metadata": {
    "accelerator": "GPU",
    "colab": {
      "gpuType": "T4",
      "provenance": []
    },
    "kernelspec": {
      "display_name": "Python 3",
      "name": "python3"
    },
    "language_info": {
      "codemirror_mode": {
        "name": "ipython",
        "version": 3
      },
      "file_extension": ".py",
      "mimetype": "text/x-python",
      "name": "python",
      "nbconvert_exporter": "python",
      "pygments_lexer": "ipython3",
      "version": "3.9.18"
    }
  },
  "nbformat": 4,
  "nbformat_minor": 0
}